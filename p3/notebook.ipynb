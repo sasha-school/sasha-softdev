{
 "cells": [
  {
   "cell_type": "raw",
   "id": "c00fd9a4-71ae-4a23-9c4b-44e5e1682a0e",
   "metadata": {},
   "source": [
    "$ jupyter notebook"
   ]
  },
  {
   "cell_type": "markdown",
   "id": "04e38df7-e288-4504-a637-9f5665cd49b2",
   "metadata": {},
   "source": [
    "Runs in your web browser at http://localhost:8888/tree"
   ]
  },
  {
   "cell_type": "markdown",
   "id": "cd94f86a-c1e5-4d12-89f8-4184b80fec75",
   "metadata": {},
   "source": [
    "This is <b>markdown!</b> Just formattable text!!"
   ]
  },
  {
   "cell_type": "raw",
   "id": "81c7792c-a98d-43e3-b3cd-0acfac6bcb67",
   "metadata": {},
   "source": [
    "This is just raw text."
   ]
  },
  {
   "cell_type": "code",
   "execution_count": null,
   "id": "8daedf53-cfec-40e4-b64f-67051cad05b4",
   "metadata": {},
   "outputs": [],
   "source": [
    "print(\"This is a code cell.\")"
   ]
  },
  {
   "cell_type": "code",
   "execution_count": null,
   "id": "c42421b5-5745-429b-a38e-0721b62a976c",
   "metadata": {},
   "outputs": [],
   "source": [
    "import matplotlib.pyplot as plt"
   ]
  },
  {
   "cell_type": "code",
   "execution_count": null,
   "id": "37786bf5-5073-4ff8-a369-ebb03099e954",
   "metadata": {},
   "outputs": [],
   "source": [
    "#from matplotlib site\n",
    "fig, ax = plt.subplots()             \n",
    "ax.plot([1, 2, 3, 4], [1, 4, 2, 3])  \n",
    "plt.show()"
   ]
  },
  {
   "cell_type": "markdown",
   "id": "55d4d343-f4ef-422d-a277-a59c24f8b974",
   "metadata": {},
   "source": [
    "Automatically prints output without a print statement:"
   ]
  },
  {
   "cell_type": "code",
   "execution_count": null,
   "id": "ab1afdae-332d-4a0b-bcd4-9d4ff5f5f938",
   "metadata": {},
   "outputs": [],
   "source": [
    "x = 10\n",
    "y = 5\n",
    "x + y"
   ]
  },
  {
   "cell_type": "markdown",
   "id": "9ca804ab-0eaa-4b5f-99fd-e36aff03bbd8",
   "metadata": {},
   "source": [
    "Variables remain defined across cells"
   ]
  },
  {
   "cell_type": "code",
   "execution_count": null,
   "id": "7fa5949d-5ff4-4b03-aea2-d802034cace5",
   "metadata": {},
   "outputs": [],
   "source": [
    "a = 10"
   ]
  },
  {
   "cell_type": "code",
   "execution_count": null,
   "id": "e4346fc6-68bc-44ca-b6bb-a90a2fbf72cb",
   "metadata": {},
   "outputs": [],
   "source": [
    "print(a)"
   ]
  },
  {
   "cell_type": "code",
   "execution_count": null,
   "id": "340f0a06-30b9-45a0-a9ae-224e4a244e15",
   "metadata": {},
   "outputs": [],
   "source": [
    "a = 5 #redifines a"
   ]
  },
  {
   "cell_type": "markdown",
   "id": "38c3b54c-3807-4181-be80-1cf6d78c17fc",
   "metadata": {},
   "source": [
    "http://localhost:8888/lab"
   ]
  }
 ],
 "metadata": {
  "kernelspec": {
   "display_name": "Python 3 (ipykernel)",
   "language": "python",
   "name": "python3"
  },
  "language_info": {
   "codemirror_mode": {
    "name": "ipython",
    "version": 3
   },
   "file_extension": ".py",
   "mimetype": "text/x-python",
   "name": "python",
   "nbconvert_exporter": "python",
   "pygments_lexer": "ipython3",
   "version": "3.12.2"
  }
 },
 "nbformat": 4,
 "nbformat_minor": 5
}
