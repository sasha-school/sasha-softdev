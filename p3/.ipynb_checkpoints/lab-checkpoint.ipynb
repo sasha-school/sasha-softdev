{
 "cells": [
  {
   "cell_type": "code",
   "execution_count": null,
   "id": "9b001aff-8c12-4f11-87ea-34970a347207",
   "metadata": {},
   "outputs": [],
   "source": [
    "$ jupyter lab"
   ]
  },
  {
   "cell_type": "markdown",
   "id": "4cea0e85-9d05-427f-b0b2-98693b4dd45d",
   "metadata": {},
   "source": [
    "Runs in your web browser at http://localhost:8888/lab"
   ]
  },
  {
   "cell_type": "markdown",
   "id": "4d149428-ca3b-4a6f-975c-4ff1e543cd13",
   "metadata": {},
   "source": [
    "More functionality avaliable, such as widgets:"
   ]
  },
  {
   "cell_type": "code",
   "execution_count": null,
   "id": "12845bcb-14d1-44b4-9e39-2676e3aa1be7",
   "metadata": {},
   "outputs": [],
   "source": [
    "import ipywidgets as widgets\n",
    "\n",
    "slider = widgets.IntSlider(value=5, min=0, max=10)\n",
    "slider"
   ]
  },
  {
   "cell_type": "code",
   "execution_count": null,
   "id": "519610c0-fafd-4ea5-9bd7-44a3b67ebe5e",
   "metadata": {},
   "outputs": [],
   "source": [
    "import numpy as np\n",
    "import matplotlib.pyplot as plt\n",
    "\n",
    "def sine(freq=1):\n",
    "    x = np.linspace(0, 10, 100)\n",
    "    y = np.sin(freq * x)\n",
    "    plt.figure(figsize=(5, 3))\n",
    "    plt.plot(x, y)\n",
    "    plt.title(f\"Frequency: {freq}\")\n",
    "    plt.show()\n",
    "\n",
    "slider = widgets.FloatSlider(value=1, min=0.1, max=5, step=0.1, description=\"Frequency:\")\n",
    "widgets.interactive(sine, freq=slider)\n"
   ]
  },
  {
   "cell_type": "markdown",
   "id": "d7c4eda7-7be6-423e-842a-44320323694b",
   "metadata": {},
   "source": [
    "IPython display example:"
   ]
  },
  {
   "cell_type": "code",
   "execution_count": null,
   "id": "23a8bdae-f9aa-475e-97bd-8f71344e0ee4",
   "metadata": {},
   "outputs": [],
   "source": [
    "from IPython.display import display\n",
    "import pandas as pd\n",
    "from pandas import read_csv\n",
    "arr = read_csv(\"spotify_data/high_popularity_spotify_data.csv\", delimiter=\",\", dtype=str) #kaggle\n",
    "display(arr) ##ipython "
   ]
  },
  {
   "cell_type": "code",
   "execution_count": null,
   "id": "cf516966-c909-45f4-b3c3-1878345e68a3",
   "metadata": {},
   "outputs": [],
   "source": []
  }
 ],
 "metadata": {
  "kernelspec": {
   "display_name": "Python 3 (ipykernel)",
   "language": "python",
   "name": "python3"
  },
  "language_info": {
   "codemirror_mode": {
    "name": "ipython",
    "version": 3
   },
   "file_extension": ".py",
   "mimetype": "text/x-python",
   "name": "python",
   "nbconvert_exporter": "python",
   "pygments_lexer": "ipython3",
   "version": "3.12.2"
  }
 },
 "nbformat": 4,
 "nbformat_minor": 5
}
